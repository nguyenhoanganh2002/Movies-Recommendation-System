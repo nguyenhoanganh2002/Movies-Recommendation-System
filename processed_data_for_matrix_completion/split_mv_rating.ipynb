{
 "cells": [
  {
   "cell_type": "code",
   "execution_count": 9,
   "metadata": {},
   "outputs": [],
   "source": [
    "import numpy as np\n",
    "import pandas as pd"
   ]
  },
  {
   "cell_type": "code",
   "execution_count": 10,
   "metadata": {},
   "outputs": [
    {
     "data": {
      "text/plain": [
       "Index(['Unnamed: 0', 'userId', 'movieId', 'rating'], dtype='object')"
      ]
     },
     "execution_count": 10,
     "metadata": {},
     "output_type": "execute_result"
    }
   ],
   "source": [
    "num_parts = 5\n",
    "df = pd.read_csv('discreted_link_ratings.csv')\n",
    "bins = np.linspace(0, 10000, num=num_parts+1).tolist()\n",
    "df.columns"
   ]
  },
  {
   "cell_type": "code",
   "execution_count": 11,
   "metadata": {},
   "outputs": [],
   "source": [
    "def save_and_discretize_data_to_csv(df, save_path='', max_user = None):\n",
    "    print(df.columns)\n",
    "    rows_with_nan = df[df.isna().any(axis=1)]\n",
    "    print(rows_with_nan)\n",
    "    df = df[['userId', 'movieId', 'rating']]\n",
    "\n",
    "    # print( df['movieId'])\n",
    "    if max_user:\n",
    "        df = df.loc[df['userId'] <= max_user]\n",
    "    def discrete(column):\n",
    "        sorted_values = sorted(df[column].unique())\n",
    "        def custom_rank(value):\n",
    "            return sorted_values.index(value) + 1\n",
    "        return custom_rank\n",
    "\n",
    "    df['userId'] = df['userId'].apply(discrete('userId'))\n",
    "    df['movieId'] = df['movieId'].apply(discrete('movieId'))\n",
    "    df.to_csv(save_path)"
   ]
  },
  {
   "cell_type": "code",
   "execution_count": 12,
   "metadata": {},
   "outputs": [],
   "source": [
    "# Tạo danh sách chứa các phần DataFrame\n",
    "df_parts = []\n",
    "\n",
    "# Duyệt qua từng phần\n",
    "for i in range(num_parts):\n",
    "    condition = (df['userId'] >= bins[i]) & (df['userId'] < bins[i+1])\n",
    "    current_part = df[condition].copy()\n",
    "    df_parts.append(current_part)"
   ]
  },
  {
   "cell_type": "code",
   "execution_count": 13,
   "metadata": {},
   "outputs": [
    {
     "data": {
      "text/html": [
       "<div>\n",
       "<style scoped>\n",
       "    .dataframe tbody tr th:only-of-type {\n",
       "        vertical-align: middle;\n",
       "    }\n",
       "\n",
       "    .dataframe tbody tr th {\n",
       "        vertical-align: top;\n",
       "    }\n",
       "\n",
       "    .dataframe thead th {\n",
       "        text-align: right;\n",
       "    }\n",
       "</style>\n",
       "<table border=\"1\" class=\"dataframe\">\n",
       "  <thead>\n",
       "    <tr style=\"text-align: right;\">\n",
       "      <th></th>\n",
       "      <th>Unnamed: 0</th>\n",
       "      <th>userId</th>\n",
       "      <th>movieId</th>\n",
       "      <th>rating</th>\n",
       "    </tr>\n",
       "  </thead>\n",
       "  <tbody>\n",
       "    <tr>\n",
       "      <th>974191</th>\n",
       "      <td>25905310</td>\n",
       "      <td>1</td>\n",
       "      <td>1077</td>\n",
       "      <td>3</td>\n",
       "    </tr>\n",
       "    <tr>\n",
       "      <th>978230</th>\n",
       "      <td>26014297</td>\n",
       "      <td>1</td>\n",
       "      <td>186</td>\n",
       "      <td>4</td>\n",
       "    </tr>\n",
       "    <tr>\n",
       "      <th>961063</th>\n",
       "      <td>25555512</td>\n",
       "      <td>1</td>\n",
       "      <td>3211</td>\n",
       "      <td>5</td>\n",
       "    </tr>\n",
       "    <tr>\n",
       "      <th>937271</th>\n",
       "      <td>24925534</td>\n",
       "      <td>1</td>\n",
       "      <td>5037</td>\n",
       "      <td>5</td>\n",
       "    </tr>\n",
       "    <tr>\n",
       "      <th>951042</th>\n",
       "      <td>25289310</td>\n",
       "      <td>1</td>\n",
       "      <td>3929</td>\n",
       "      <td>4</td>\n",
       "    </tr>\n",
       "    <tr>\n",
       "      <th>...</th>\n",
       "      <td>...</td>\n",
       "      <td>...</td>\n",
       "      <td>...</td>\n",
       "      <td>...</td>\n",
       "    </tr>\n",
       "    <tr>\n",
       "      <th>921797</th>\n",
       "      <td>24515817</td>\n",
       "      <td>1998</td>\n",
       "      <td>6020</td>\n",
       "      <td>5</td>\n",
       "    </tr>\n",
       "    <tr>\n",
       "      <th>923164</th>\n",
       "      <td>24553490</td>\n",
       "      <td>1998</td>\n",
       "      <td>5958</td>\n",
       "      <td>3</td>\n",
       "    </tr>\n",
       "    <tr>\n",
       "      <th>976389</th>\n",
       "      <td>25966445</td>\n",
       "      <td>1998</td>\n",
       "      <td>531</td>\n",
       "      <td>4</td>\n",
       "    </tr>\n",
       "    <tr>\n",
       "      <th>94793</th>\n",
       "      <td>2464966</td>\n",
       "      <td>1999</td>\n",
       "      <td>19897</td>\n",
       "      <td>5</td>\n",
       "    </tr>\n",
       "    <tr>\n",
       "      <th>109285</th>\n",
       "      <td>2852831</td>\n",
       "      <td>1999</td>\n",
       "      <td>19860</td>\n",
       "      <td>5</td>\n",
       "    </tr>\n",
       "  </tbody>\n",
       "</table>\n",
       "<p>196134 rows × 4 columns</p>\n",
       "</div>"
      ],
      "text/plain": [
       "        Unnamed: 0  userId  movieId  rating\n",
       "974191    25905310       1     1077       3\n",
       "978230    26014297       1      186       4\n",
       "961063    25555512       1     3211       5\n",
       "937271    24925534       1     5037       5\n",
       "951042    25289310       1     3929       4\n",
       "...            ...     ...      ...     ...\n",
       "921797    24515817    1998     6020       5\n",
       "923164    24553490    1998     5958       3\n",
       "976389    25966445    1998      531       4\n",
       "94793      2464966    1999    19897       5\n",
       "109285     2852831    1999    19860       5\n",
       "\n",
       "[196134 rows x 4 columns]"
      ]
     },
     "execution_count": 13,
     "metadata": {},
     "output_type": "execute_result"
    }
   ],
   "source": [
    "df_tmp = df_parts[0].sort_values(by='userId')\n",
    "df_tmp\n",
    "# df_parts[1]"
   ]
  },
  {
   "cell_type": "code",
   "execution_count": 14,
   "metadata": {},
   "outputs": [
    {
     "name": "stdout",
     "output_type": "stream",
     "text": [
      "Index(['Unnamed: 0', 'userId', 'movieId', 'rating'], dtype='object')\n",
      "Empty DataFrame\n",
      "Columns: [Unnamed: 0, userId, movieId, rating]\n",
      "Index: []\n"
     ]
    },
    {
     "name": "stderr",
     "output_type": "stream",
     "text": [
      "C:\\Users\\ABC\\AppData\\Local\\Temp\\ipykernel_28148\\4244648765.py:16: SettingWithCopyWarning: \n",
      "A value is trying to be set on a copy of a slice from a DataFrame.\n",
      "Try using .loc[row_indexer,col_indexer] = value instead\n",
      "\n",
      "See the caveats in the documentation: https://pandas.pydata.org/pandas-docs/stable/user_guide/indexing.html#returning-a-view-versus-a-copy\n",
      "  df['userId'] = df['userId'].apply(discrete('userId'))\n",
      "C:\\Users\\ABC\\AppData\\Local\\Temp\\ipykernel_28148\\4244648765.py:17: SettingWithCopyWarning: \n",
      "A value is trying to be set on a copy of a slice from a DataFrame.\n",
      "Try using .loc[row_indexer,col_indexer] = value instead\n",
      "\n",
      "See the caveats in the documentation: https://pandas.pydata.org/pandas-docs/stable/user_guide/indexing.html#returning-a-view-versus-a-copy\n",
      "  df['movieId'] = df['movieId'].apply(discrete('movieId'))\n"
     ]
    },
    {
     "name": "stdout",
     "output_type": "stream",
     "text": [
      "Index(['Unnamed: 0', 'userId', 'movieId', 'rating'], dtype='object')\n",
      "Empty DataFrame\n",
      "Columns: [Unnamed: 0, userId, movieId, rating]\n",
      "Index: []\n"
     ]
    },
    {
     "name": "stderr",
     "output_type": "stream",
     "text": [
      "C:\\Users\\ABC\\AppData\\Local\\Temp\\ipykernel_28148\\4244648765.py:16: SettingWithCopyWarning: \n",
      "A value is trying to be set on a copy of a slice from a DataFrame.\n",
      "Try using .loc[row_indexer,col_indexer] = value instead\n",
      "\n",
      "See the caveats in the documentation: https://pandas.pydata.org/pandas-docs/stable/user_guide/indexing.html#returning-a-view-versus-a-copy\n",
      "  df['userId'] = df['userId'].apply(discrete('userId'))\n",
      "C:\\Users\\ABC\\AppData\\Local\\Temp\\ipykernel_28148\\4244648765.py:17: SettingWithCopyWarning: \n",
      "A value is trying to be set on a copy of a slice from a DataFrame.\n",
      "Try using .loc[row_indexer,col_indexer] = value instead\n",
      "\n",
      "See the caveats in the documentation: https://pandas.pydata.org/pandas-docs/stable/user_guide/indexing.html#returning-a-view-versus-a-copy\n",
      "  df['movieId'] = df['movieId'].apply(discrete('movieId'))\n"
     ]
    },
    {
     "name": "stdout",
     "output_type": "stream",
     "text": [
      "Index(['Unnamed: 0', 'userId', 'movieId', 'rating'], dtype='object')\n",
      "Empty DataFrame\n",
      "Columns: [Unnamed: 0, userId, movieId, rating]\n",
      "Index: []\n"
     ]
    },
    {
     "name": "stderr",
     "output_type": "stream",
     "text": [
      "C:\\Users\\ABC\\AppData\\Local\\Temp\\ipykernel_28148\\4244648765.py:16: SettingWithCopyWarning: \n",
      "A value is trying to be set on a copy of a slice from a DataFrame.\n",
      "Try using .loc[row_indexer,col_indexer] = value instead\n",
      "\n",
      "See the caveats in the documentation: https://pandas.pydata.org/pandas-docs/stable/user_guide/indexing.html#returning-a-view-versus-a-copy\n",
      "  df['userId'] = df['userId'].apply(discrete('userId'))\n",
      "C:\\Users\\ABC\\AppData\\Local\\Temp\\ipykernel_28148\\4244648765.py:17: SettingWithCopyWarning: \n",
      "A value is trying to be set on a copy of a slice from a DataFrame.\n",
      "Try using .loc[row_indexer,col_indexer] = value instead\n",
      "\n",
      "See the caveats in the documentation: https://pandas.pydata.org/pandas-docs/stable/user_guide/indexing.html#returning-a-view-versus-a-copy\n",
      "  df['movieId'] = df['movieId'].apply(discrete('movieId'))\n"
     ]
    },
    {
     "name": "stdout",
     "output_type": "stream",
     "text": [
      "Index(['Unnamed: 0', 'userId', 'movieId', 'rating'], dtype='object')\n",
      "Empty DataFrame\n",
      "Columns: [Unnamed: 0, userId, movieId, rating]\n",
      "Index: []\n"
     ]
    },
    {
     "name": "stderr",
     "output_type": "stream",
     "text": [
      "C:\\Users\\ABC\\AppData\\Local\\Temp\\ipykernel_28148\\4244648765.py:16: SettingWithCopyWarning: \n",
      "A value is trying to be set on a copy of a slice from a DataFrame.\n",
      "Try using .loc[row_indexer,col_indexer] = value instead\n",
      "\n",
      "See the caveats in the documentation: https://pandas.pydata.org/pandas-docs/stable/user_guide/indexing.html#returning-a-view-versus-a-copy\n",
      "  df['userId'] = df['userId'].apply(discrete('userId'))\n",
      "C:\\Users\\ABC\\AppData\\Local\\Temp\\ipykernel_28148\\4244648765.py:17: SettingWithCopyWarning: \n",
      "A value is trying to be set on a copy of a slice from a DataFrame.\n",
      "Try using .loc[row_indexer,col_indexer] = value instead\n",
      "\n",
      "See the caveats in the documentation: https://pandas.pydata.org/pandas-docs/stable/user_guide/indexing.html#returning-a-view-versus-a-copy\n",
      "  df['movieId'] = df['movieId'].apply(discrete('movieId'))\n"
     ]
    },
    {
     "name": "stdout",
     "output_type": "stream",
     "text": [
      "Index(['Unnamed: 0', 'userId', 'movieId', 'rating'], dtype='object')\n",
      "Empty DataFrame\n",
      "Columns: [Unnamed: 0, userId, movieId, rating]\n",
      "Index: []\n"
     ]
    },
    {
     "name": "stderr",
     "output_type": "stream",
     "text": [
      "C:\\Users\\ABC\\AppData\\Local\\Temp\\ipykernel_28148\\4244648765.py:16: SettingWithCopyWarning: \n",
      "A value is trying to be set on a copy of a slice from a DataFrame.\n",
      "Try using .loc[row_indexer,col_indexer] = value instead\n",
      "\n",
      "See the caveats in the documentation: https://pandas.pydata.org/pandas-docs/stable/user_guide/indexing.html#returning-a-view-versus-a-copy\n",
      "  df['userId'] = df['userId'].apply(discrete('userId'))\n",
      "C:\\Users\\ABC\\AppData\\Local\\Temp\\ipykernel_28148\\4244648765.py:17: SettingWithCopyWarning: \n",
      "A value is trying to be set on a copy of a slice from a DataFrame.\n",
      "Try using .loc[row_indexer,col_indexer] = value instead\n",
      "\n",
      "See the caveats in the documentation: https://pandas.pydata.org/pandas-docs/stable/user_guide/indexing.html#returning-a-view-versus-a-copy\n",
      "  df['movieId'] = df['movieId'].apply(discrete('movieId'))\n"
     ]
    }
   ],
   "source": [
    "for i in range(num_parts):\n",
    "    save_and_discretize_data_to_csv(df_parts[i].copy(), save_path=f\"discreted_link_ratings_p{i}.csv\")\n"
   ]
  },
  {
   "cell_type": "code",
   "execution_count": 15,
   "metadata": {},
   "outputs": [
    {
     "data": {
      "text/html": [
       "<div>\n",
       "<style scoped>\n",
       "    .dataframe tbody tr th:only-of-type {\n",
       "        vertical-align: middle;\n",
       "    }\n",
       "\n",
       "    .dataframe tbody tr th {\n",
       "        vertical-align: top;\n",
       "    }\n",
       "\n",
       "    .dataframe thead th {\n",
       "        text-align: right;\n",
       "    }\n",
       "</style>\n",
       "<table border=\"1\" class=\"dataframe\">\n",
       "  <thead>\n",
       "    <tr style=\"text-align: right;\">\n",
       "      <th></th>\n",
       "      <th>Unnamed: 0</th>\n",
       "      <th>userId</th>\n",
       "      <th>movieId</th>\n",
       "      <th>rating</th>\n",
       "    </tr>\n",
       "  </thead>\n",
       "  <tbody>\n",
       "    <tr>\n",
       "      <th>974191</th>\n",
       "      <td>25905310</td>\n",
       "      <td>1</td>\n",
       "      <td>1077</td>\n",
       "      <td>3</td>\n",
       "    </tr>\n",
       "    <tr>\n",
       "      <th>978230</th>\n",
       "      <td>26014297</td>\n",
       "      <td>1</td>\n",
       "      <td>186</td>\n",
       "      <td>4</td>\n",
       "    </tr>\n",
       "    <tr>\n",
       "      <th>961063</th>\n",
       "      <td>25555512</td>\n",
       "      <td>1</td>\n",
       "      <td>3211</td>\n",
       "      <td>5</td>\n",
       "    </tr>\n",
       "    <tr>\n",
       "      <th>937271</th>\n",
       "      <td>24925534</td>\n",
       "      <td>1</td>\n",
       "      <td>5037</td>\n",
       "      <td>5</td>\n",
       "    </tr>\n",
       "    <tr>\n",
       "      <th>951042</th>\n",
       "      <td>25289310</td>\n",
       "      <td>1</td>\n",
       "      <td>3929</td>\n",
       "      <td>4</td>\n",
       "    </tr>\n",
       "    <tr>\n",
       "      <th>...</th>\n",
       "      <td>...</td>\n",
       "      <td>...</td>\n",
       "      <td>...</td>\n",
       "      <td>...</td>\n",
       "    </tr>\n",
       "    <tr>\n",
       "      <th>921797</th>\n",
       "      <td>24515817</td>\n",
       "      <td>1998</td>\n",
       "      <td>6020</td>\n",
       "      <td>5</td>\n",
       "    </tr>\n",
       "    <tr>\n",
       "      <th>923164</th>\n",
       "      <td>24553490</td>\n",
       "      <td>1998</td>\n",
       "      <td>5958</td>\n",
       "      <td>3</td>\n",
       "    </tr>\n",
       "    <tr>\n",
       "      <th>976389</th>\n",
       "      <td>25966445</td>\n",
       "      <td>1998</td>\n",
       "      <td>531</td>\n",
       "      <td>4</td>\n",
       "    </tr>\n",
       "    <tr>\n",
       "      <th>94793</th>\n",
       "      <td>2464966</td>\n",
       "      <td>1999</td>\n",
       "      <td>19897</td>\n",
       "      <td>5</td>\n",
       "    </tr>\n",
       "    <tr>\n",
       "      <th>109285</th>\n",
       "      <td>2852831</td>\n",
       "      <td>1999</td>\n",
       "      <td>19860</td>\n",
       "      <td>5</td>\n",
       "    </tr>\n",
       "  </tbody>\n",
       "</table>\n",
       "<p>196134 rows × 4 columns</p>\n",
       "</div>"
      ],
      "text/plain": [
       "        Unnamed: 0  userId  movieId  rating\n",
       "974191    25905310       1     1077       3\n",
       "978230    26014297       1      186       4\n",
       "961063    25555512       1     3211       5\n",
       "937271    24925534       1     5037       5\n",
       "951042    25289310       1     3929       4\n",
       "...            ...     ...      ...     ...\n",
       "921797    24515817    1998     6020       5\n",
       "923164    24553490    1998     5958       3\n",
       "976389    25966445    1998      531       4\n",
       "94793      2464966    1999    19897       5\n",
       "109285     2852831    1999    19860       5\n",
       "\n",
       "[196134 rows x 4 columns]"
      ]
     },
     "execution_count": 15,
     "metadata": {},
     "output_type": "execute_result"
    }
   ],
   "source": [
    "df_tmp = df_parts[0].sort_values(by='userId')\n",
    "df_tmp"
   ]
  },
  {
   "cell_type": "code",
   "execution_count": null,
   "metadata": {},
   "outputs": [],
   "source": []
  }
 ],
 "metadata": {
  "kernelspec": {
   "display_name": "Python 3",
   "language": "python",
   "name": "python3"
  },
  "language_info": {
   "codemirror_mode": {
    "name": "ipython",
    "version": 3
   },
   "file_extension": ".py",
   "mimetype": "text/x-python",
   "name": "python",
   "nbconvert_exporter": "python",
   "pygments_lexer": "ipython3",
   "version": "3.10.2"
  }
 },
 "nbformat": 4,
 "nbformat_minor": 2
}
