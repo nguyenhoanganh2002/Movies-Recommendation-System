{
 "cells": [
  {
   "cell_type": "code",
   "execution_count": 2,
   "metadata": {},
   "outputs": [],
   "source": [
    "import pandas as pd"
   ]
  },
  {
   "cell_type": "code",
   "execution_count": 3,
   "metadata": {},
   "outputs": [],
   "source": [
    "def load_data_from_csv(path='./', delimiter=',', max_user = None):\n",
    "    df = pd.read_csv(path, index_col=0)\n",
    "    print(df.columns)\n",
    "    rows_with_nan = df[df.isna().any(axis=1)]\n",
    "    print(rows_with_nan)\n",
    "    df = df[['userId', 'movieId', 'rating']]\n",
    "\n",
    "    # print( df['movieId'])\n",
    "    if max_user:\n",
    "        df = df.loc[df['userId'] <= max_user]\n",
    "    def discrete(column):\n",
    "        sorted_values = sorted(df[column].unique(), reverse=True)\n",
    "        def custom_rank(value):\n",
    "            return sorted_values.index(value) + 1\n",
    "        return custom_rank\n",
    "\n",
    "    df['userId'] = df['userId'].apply(discrete('userId'))\n",
    "    df['movieId'] = df['movieId'].apply(discrete('movieId'))\n",
    "    df.to_csv('discreted_link_ratings.csv')\n"
   ]
  },
  {
   "cell_type": "code",
   "execution_count": 4,
   "metadata": {},
   "outputs": [],
   "source": [
    "data_path = '../sampled_data/link_ratings.csv'"
   ]
  },
  {
   "cell_type": "markdown",
   "metadata": {},
   "source": [
    "### Discretize the sampled link_ratings.csv"
   ]
  },
  {
   "cell_type": "code",
   "execution_count": 5,
   "metadata": {},
   "outputs": [
    {
     "name": "stdout",
     "output_type": "stream",
     "text": [
      "Index(['movieId', 'imdbId', 'tmdbId', 'userId', 'rating', 'timestamp'], dtype='object')\n",
      "          movieId   imdbId  tmdbId  userId  rating   timestamp\n",
      "1146570       142    94878     NaN    3334       3   955115376\n",
      "1146571       142    94878     NaN    6697       2   833833052\n",
      "4827734       604   115978     NaN    1716       0  1209657620\n",
      "4827735       604   115978     NaN    2054       5  1039187973\n",
      "4827736       604   115978     NaN    8317       1   944065907\n",
      "...           ...      ...     ...     ...     ...         ...\n",
      "25273973   107503   182719     NaN    8659       3  1388218715\n",
      "25421905   112493   459131     NaN    8667       3  1405972400\n",
      "25449466   112844   386346     NaN    8659       3  1406230443\n",
      "25477130   113855  1714046     NaN    5641       3  1468010697\n",
      "25509493   115254    21733     NaN    8659       3  1414312687\n",
      "\n",
      "[508 rows x 6 columns]\n"
     ]
    }
   ],
   "source": [
    "load_data_from_csv(path=data_path)"
   ]
  }
 ],
 "metadata": {
  "kernelspec": {
   "display_name": "Python 3",
   "language": "python",
   "name": "python3"
  },
  "language_info": {
   "codemirror_mode": {
    "name": "ipython",
    "version": 3
   },
   "file_extension": ".py",
   "mimetype": "text/x-python",
   "name": "python",
   "nbconvert_exporter": "python",
   "pygments_lexer": "ipython3",
   "version": "3.10.2"
  }
 },
 "nbformat": 4,
 "nbformat_minor": 2
}
