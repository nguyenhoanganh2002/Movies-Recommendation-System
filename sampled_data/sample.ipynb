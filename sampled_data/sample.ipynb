{
 "cells": [
  {
   "cell_type": "code",
   "execution_count": 1,
   "metadata": {},
   "outputs": [
    {
     "data": {
      "text/html": [
       "<div>\n",
       "<style scoped>\n",
       "    .dataframe tbody tr th:only-of-type {\n",
       "        vertical-align: middle;\n",
       "    }\n",
       "\n",
       "    .dataframe tbody tr th {\n",
       "        vertical-align: top;\n",
       "    }\n",
       "\n",
       "    .dataframe thead th {\n",
       "        text-align: right;\n",
       "    }\n",
       "</style>\n",
       "<table border=\"1\" class=\"dataframe\">\n",
       "  <thead>\n",
       "    <tr style=\"text-align: right;\">\n",
       "      <th></th>\n",
       "      <th>Unnamed: 0</th>\n",
       "      <th>movieId</th>\n",
       "      <th>imdbId</th>\n",
       "      <th>tmdbId</th>\n",
       "      <th>userId</th>\n",
       "      <th>rating</th>\n",
       "      <th>timestamp</th>\n",
       "    </tr>\n",
       "  </thead>\n",
       "  <tbody>\n",
       "    <tr>\n",
       "      <th>0</th>\n",
       "      <td>0</td>\n",
       "      <td>1</td>\n",
       "      <td>114709</td>\n",
       "      <td>862.0</td>\n",
       "      <td>8</td>\n",
       "      <td>4</td>\n",
       "      <td>1013443596</td>\n",
       "    </tr>\n",
       "    <tr>\n",
       "      <th>1</th>\n",
       "      <td>1</td>\n",
       "      <td>1</td>\n",
       "      <td>114709</td>\n",
       "      <td>862.0</td>\n",
       "      <td>9</td>\n",
       "      <td>4</td>\n",
       "      <td>1073837180</td>\n",
       "    </tr>\n",
       "    <tr>\n",
       "      <th>2</th>\n",
       "      <td>2</td>\n",
       "      <td>1</td>\n",
       "      <td>114709</td>\n",
       "      <td>862.0</td>\n",
       "      <td>12</td>\n",
       "      <td>4</td>\n",
       "      <td>943912205</td>\n",
       "    </tr>\n",
       "    <tr>\n",
       "      <th>3</th>\n",
       "      <td>3</td>\n",
       "      <td>1</td>\n",
       "      <td>114709</td>\n",
       "      <td>862.0</td>\n",
       "      <td>20</td>\n",
       "      <td>4</td>\n",
       "      <td>1368361348</td>\n",
       "    </tr>\n",
       "    <tr>\n",
       "      <th>4</th>\n",
       "      <td>4</td>\n",
       "      <td>1</td>\n",
       "      <td>114709</td>\n",
       "      <td>862.0</td>\n",
       "      <td>24</td>\n",
       "      <td>4</td>\n",
       "      <td>979869938</td>\n",
       "    </tr>\n",
       "  </tbody>\n",
       "</table>\n",
       "</div>"
      ],
      "text/plain": [
       "   Unnamed: 0  movieId  imdbId  tmdbId  userId  rating   timestamp\n",
       "0           0        1  114709   862.0       8       4  1013443596\n",
       "1           1        1  114709   862.0       9       4  1073837180\n",
       "2           2        1  114709   862.0      12       4   943912205\n",
       "3           3        1  114709   862.0      20       4  1368361348\n",
       "4           4        1  114709   862.0      24       4   979869938"
      ]
     },
     "execution_count": 1,
     "metadata": {},
     "output_type": "execute_result"
    }
   ],
   "source": [
    "import numpy as np\n",
    "import pandas as pd\n",
    "\n",
    "movie_user = pd.read_csv('link_ratings.csv')\n",
    "\n",
    "movie_user.head()\n"
   ]
  },
  {
   "cell_type": "code",
   "execution_count": 2,
   "metadata": {},
   "outputs": [
    {
     "data": {
      "text/plain": [
       "rating\n",
       "4    9164499\n",
       "3    8370357\n",
       "5    3808511\n",
       "2    3016783\n",
       "1    1246154\n",
       "Name: count, dtype: int64"
      ]
     },
     "execution_count": 2,
     "metadata": {},
     "output_type": "execute_result"
    }
   ],
   "source": [
    "movie_user = movie_user[movie_user['rating']>0]\n",
    "movie_user['rating'].value_counts()"
   ]
  },
  {
   "cell_type": "code",
   "execution_count": 3,
   "metadata": {},
   "outputs": [
    {
     "data": {
      "text/plain": [
       "array([     8,      9,     12, ..., 268277,  49260, 153214], dtype=int64)"
      ]
     },
     "execution_count": 3,
     "metadata": {},
     "output_type": "execute_result"
    }
   ],
   "source": [
    "import collections\n",
    "movie_dict = collections.defaultdict(list)\n",
    "users = movie_user['userId'].unique()\n",
    "users"
   ]
  },
  {
   "cell_type": "code",
   "execution_count": 4,
   "metadata": {},
   "outputs": [],
   "source": [
    "def partition_interval(start, end, proportions, rating_count):\n",
    "    total_length = end - start\n",
    "    segment_lengths = np.array([max(1, int(p * total_length)) for p in proportions])\n",
    "    for i in range(len(segment_lengths)):\n",
    "        if segment_lengths[i]>rating_count[i]:\n",
    "            segment_lengths[i] = rating_count[i]\n",
    "\n",
    "    if sum(segment_lengths) > total_length:\n",
    "        a = segment_lengths.argmax()\n",
    "        segment_lengths[a] -= (sum(segment_lengths)-total_length)\n",
    "    elif sum(segment_lengths) < total_length:\n",
    "        left = total_length-sum(segment_lengths)\n",
    "        for i in range(len(segment_lengths)):\n",
    "            x = min(left, rating_count[i]-segment_lengths[i])\n",
    "            left -= x\n",
    "            segment_lengths[i] += x\n",
    "            if left == 0:\n",
    "                break\n",
    "\n",
    "\n",
    "    partition = []\n",
    "    current_position = start\n",
    "\n",
    "    for length in segment_lengths:\n",
    "        partition.append((current_position, current_position + length))\n",
    "        current_position += length\n",
    "    result = []\n",
    "    for a in partition:\n",
    "        result.append(a[1]-a[0])\n",
    "    return np.array(result).astype(int)\n",
    "\n"
   ]
  },
  {
   "cell_type": "code",
   "execution_count": 5,
   "metadata": {},
   "outputs": [],
   "source": [
    "import csv\n",
    "import jsonlines\n",
    "grouped = movie_user.groupby(['userId'])\n",
    "fields = ['userId', 'encode_id', 'rate_id']\n",
    "for user in users:\n",
    "    full_group = grouped.get_group(user)\n",
    "    rating_id = np.sort(full_group['timestamp'])\n",
    "\n",
    "    list_save = rating_id[-10:]\n",
    "    group = full_group.loc[~full_group['timestamp'].isin(list_save)]\n",
    "    ratings = group['rating'].unique()\n",
    "    ratings = np.sort(ratings)\n",
    "    rating_groups = group.groupby(['rating'])\n",
    "    rating_count = rating_groups.size().to_numpy()\n",
    "\n",
    "    num_sample_encode = partition_interval(0, 20, rating_count/rating_count.sum(), rating_count)\n",
    "    num_groups_for_user = int(len(group)/20)\n",
    "    for i in range(num_groups_for_user):\n",
    "\n",
    "        list_id_encode = []\n",
    "        list_id_rate = []\n",
    "\n",
    "        max_timestamp = 0\n",
    "        for k in range(len(num_sample_encode)):\n",
    "            rating = ratings[k]\n",
    "            rating_group = rating_groups.get_group(rating)\n",
    "            samples = rating_group.sample(n=num_sample_encode[k], replace=False)\n",
    "            max_timestamp = max(max_timestamp, max(samples['timestamp'].to_numpy()))\n",
    "            list_id_encode += samples['tmdbId'].to_numpy().tolist()\n",
    "\n",
    "        rate_groups = full_group.loc[full_group['timestamp']>max_timestamp]\n",
    "        samples = rate_groups.sample(n=10, replace=False)\n",
    "        list_id_rate += samples['tmdbId'].to_numpy().tolist()\n",
    "        row_dict = {\n",
    "            'userId': int(user),\n",
    "            'encode_id': list_id_encode,\n",
    "            'rate_id': list_id_rate\n",
    "        }\n",
    "        with jsonlines.open('samples.jsonl', 'a') as writer:\n",
    "            writer.write(row_dict)\n",
    "    "
   ]
  },
  {
   "cell_type": "code",
   "execution_count": 6,
   "metadata": {},
   "outputs": [],
   "source": [
    "cnt = 0\n",
    "with jsonlines.open('samples.jsonl') as reader:\n",
    "    for obj in reader:\n",
    "        with open('samples.csv', 'a', newline='') as csv_file:\n",
    "            c = csv.DictWriter(csv_file, fieldnames=fields)\n",
    "            if cnt == 0:\n",
    "                c.writeheader()\n",
    "            c.writerow(obj)\n",
    "        cnt += 1"
   ]
  },
  {
   "cell_type": "code",
   "execution_count": 7,
   "metadata": {},
   "outputs": [
    {
     "name": "stdout",
     "output_type": "stream",
     "text": [
      "134175\n"
     ]
    }
   ],
   "source": [
    "a = pd.read_csv('samples.csv')\n",
    "print(len(a['userId'].unique()))"
   ]
  }
 ],
 "metadata": {
  "kernelspec": {
   "display_name": "pygame_env",
   "language": "python",
   "name": "python3"
  },
  "language_info": {
   "codemirror_mode": {
    "name": "ipython",
    "version": 3
   },
   "file_extension": ".py",
   "mimetype": "text/x-python",
   "name": "python",
   "nbconvert_exporter": "python",
   "pygments_lexer": "ipython3",
   "version": "3.10.8"
  }
 },
 "nbformat": 4,
 "nbformat_minor": 2
}
